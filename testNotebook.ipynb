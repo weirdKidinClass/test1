{
 "cells": [
  {
   "cell_type": "code",
   "execution_count": null,
   "id": "162757a3",
   "metadata": {
    "scrolled": true
   },
   "outputs": [],
   "source": [
    "\"\"\" Mad Libs Generator\n",
    "----------------------------------------\n",
    "\"\"\"\n",
    "loop = 1\n",
    "while (loop < 2):\n",
    "# input data needed\n",
    "    noun1 = input(\"A noun: \")\n",
    "    verb1 = input(\"A verb ending in -ing: \")\n",
    "    adjective1 = input(\"An adjective: \")\n",
    "    family1 = input(\"A family member: \")\n",
    "    verb2 = input(\"A verb:  \")\n",
    "    noun2 = input(\"A noun: \")\n",
    "    noun3 = input(\"A noun: \")\n",
    "    noun4 = input(\"A noun: \")\n",
    "    secret1 = input(\"A magical item: \")\n",
    "    num1 =  input(\"A number: \")\n",
    "    num2 =  input(\"A number: \")\n",
    "    \n",
    "# Display the story\n",
    "    print (\"------------------------------------------\")\n",
    "    print (f\"Every year, we make {noun1} at Christmas time.\")\n",
    "    print (f\"{verb1} has been a tradition since I was a/an {adjective1} kid!\")\n",
    "    print (f\"{family1} used to make most of the recipe back then, but I would always help them {verb2}.\")\n",
    "    print (f\"Now that I'm older, I have a tradition of my own. I make the entire batch of {noun2} from scratch.\")\n",
    "    print (f\"All you have to do is mix {noun3} and {noun4} in a bowl until it's chunky.\")\n",
    "    print (f\"Don't forget to add {secret1}, it's the magical ingredient that brings this together.\")\n",
    "    print (f\"Bake them at {num1} degrees and after {num2} minutes, you'll have a perfect {noun2}!\")\n",
    "    print (\"------------------------------------------\")\n",
    "\n",
    "    loop = loop + 1"
   ]
  },
  {
   "cell_type": "code",
   "execution_count": null,
   "id": "4a5543ad",
   "metadata": {},
   "outputs": [],
   "source": []
  }
 ],
 "metadata": {
  "kernelspec": {
   "display_name": "Python 3 (ipykernel)",
   "language": "python",
   "name": "python3"
  },
  "language_info": {
   "codemirror_mode": {
    "name": "ipython",
    "version": 3
   },
   "file_extension": ".py",
   "mimetype": "text/x-python",
   "name": "python",
   "nbconvert_exporter": "python",
   "pygments_lexer": "ipython3",
   "version": "3.9.7"
  }
 },
 "nbformat": 4,
 "nbformat_minor": 5
}
